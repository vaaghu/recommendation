{
 "cells": [
  {
   "cell_type": "code",
   "execution_count": 10,
   "id": "7e5da31e-2344-43bb-88aa-4bb1cb3a4588",
   "metadata": {
    "tags": []
   },
   "outputs": [],
   "source": [
    "import pandas as pd\n",
    "# pd.options.display.max_rows = 20\n",
    "pd.set_option('display.max_colwidth', None)\n",
    "import numpy as np\n",
    "import matplotlib.pyplot as plt\n",
    "import seaborn as sns\n",
    "import copy"
   ]
  },
  {
   "cell_type": "code",
   "execution_count": 2,
   "id": "e74b0bea-3ee9-4b08-b2a2-134bf5ca1614",
   "metadata": {
    "tags": []
   },
   "outputs": [],
   "source": [
    "import pandas as pd\n",
    "\n",
    "chunk_size = 20000  # Adjust the chunk size as needed\n",
    "raw_chunks = pd.read_csv('animelist.csv', chunksize=chunk_size)\n",
    "# length = sum([1 for _ in chunks])\n",
    "# print(f\"Length: {length}\\nitems: < {length * chunk_size}\")"
   ]
  },
  {
   "cell_type": "code",
   "execution_count": 4,
   "id": "d3736e58-3fe7-4b41-9bbd-37eedc64de25",
   "metadata": {
    "tags": []
   },
   "outputs": [],
   "source": [
    "chunks = raw_chunks"
   ]
  },
  {
   "cell_type": "markdown",
   "id": "70d779a8-5f95-404e-9bba-558d01e44196",
   "metadata": {
    "tags": []
   },
   "source": [
    "chunks = []\n",
    "for chunk in raw_chunks:\n",
    "    chunks.append(chunk.copy())"
   ]
  },
  {
   "cell_type": "markdown",
   "id": "2b9687b0-c09d-4b32-97c4-a7ec8bf44ff6",
   "metadata": {
    "tags": []
   },
   "source": [
    "colValues = animeDFObj[\"columns\"].copy()\n",
    "for col in animeDFObj[\"columnsList\"]:\n",
    "    colValues[col] = 0\n",
    "\n",
    "animeDF[animeDF[\"MAL_ID\"] == 1 ][animeDFObj[\"columnsList\"]]"
   ]
  },
  {
   "cell_type": "code",
   "execution_count": 5,
   "id": "004fc50f-5ee0-4128-86c5-82a43718fe10",
   "metadata": {
    "tags": []
   },
   "outputs": [],
   "source": [
    "animeDF = pd.read_csv('anime.csv')\n",
    "columns = [\"Genres\"]\n",
    "animeDFObj = {}\n",
    "for chunkColumn in columns:\n",
    "    animeDFObj[\"length\"] = 0\n",
    "    animeDFObj[\"columns\"] = {}\n",
    "    animeDFObj[\"columnsList\"] = ['action', 'adventure', 'comedy', 'drama', 'sci-fi', 'space', 'mystery', 'shounen', 'police', 'supernatural', 'magic', 'fantasy', 'sports', 'josei', 'romance', 'slice of life', 'cars', 'seinen', 'horror', 'psychological', 'thriller', 'super power', 'martial arts', 'school', 'ecchi', 'vampire', 'military', 'historical', 'dementia', 'mecha', 'demons', 'samurai', 'game', 'shoujo', 'harem', 'music', 'shoujo ai', 'shounen ai', 'kids', 'hentai', 'parody', 'yuri', 'yaoi']\n",
    "\n",
    "    def Genres(row, animeDFObj, isAdd):\n",
    "        text = row[chunkColumn]\n",
    "        # print(text)\n",
    "        text = text.split(\",\")\n",
    "        if isAdd:\n",
    "            animeDFObj[\"length\"] += len(text)\n",
    "        if isAdd:\n",
    "            for column in text:\n",
    "                column = column.lower().strip()\n",
    "                if column == \"unknown\": \n",
    "                    continue\n",
    "                # print(animeDFObj[\"columns\"][column])\n",
    "                if column in animeDFObj[\"columns\"].keys():\n",
    "                    animeDFObj[\"columns\"][column] +=  1\n",
    "                else:\n",
    "                    animeDFObj[\"columns\"][column] = 1\n",
    "        else:\n",
    "            for column in text:    \n",
    "                column = column.lower().strip()\n",
    "                if column == \"unknown\": \n",
    "                    continue\n",
    "                row[column] = round(animeDFObj[\"columns\"][column] / animeDFObj[\"length\"],3)\n",
    "        return row\n",
    "\n",
    "    animeDF.apply(lambda x: Genres(x, animeDFObj, True),axis = 1)\n",
    "\n",
    "    animeDFObj[\"columnsList\"] = animeDFObj[\"columns\"].keys()\n",
    "\n",
    "    for column in animeDFObj[\"columnsList\"]:\n",
    "        if column == \"unknown\": \n",
    "            continue\n",
    "        animeDF[column] = np.zeros((animeDF.shape[0], 1), dtype=int)\n",
    "\n",
    "\n",
    "    animeDF = animeDF.apply(lambda x: Genres(x,animeDFObj,False),axis = 1)"
   ]
  },
  {
   "cell_type": "code",
   "execution_count": 6,
   "id": "bd38b012-2bb3-4bad-b96f-e815fe93d241",
   "metadata": {
    "tags": []
   },
   "outputs": [
    {
     "name": "stdout",
     "output_type": "stream",
     "text": [
      "{1: 'Currently Watching', 2: 'Completed', 3: 'On Hold', 4: 'Dropped', 6: 'Plan to Watch'}\n"
     ]
    }
   ],
   "source": [
    "watching_status = pd.read_csv('watching_status.csv')\n",
    "watching_statusObj = {}\n",
    "for i in watching_status[[\"status\",\" description\"]].values:\n",
    "    # print(i)\n",
    "    watching_statusObj[i[0]] = i[1]\n",
    "print(watching_statusObj)"
   ]
  },
  {
   "cell_type": "code",
   "execution_count": 11,
   "id": "2c631f82-7831-4ee7-b00c-e3194c3c6033",
   "metadata": {
    "tags": []
   },
   "outputs": [
    {
     "name": "stdout",
     "output_type": "stream",
     "text": [
      "(20000, 5)\n",
      "Index(['user_id', 'anime_id', 'rating', 'watched_episodes', 'action',\n",
      "       'adventure', 'comedy', 'drama', 'sci-fi', 'space', 'mystery', 'shounen',\n",
      "       'police', 'supernatural', 'magic', 'fantasy', 'sports', 'josei',\n",
      "       'romance', 'slice of life', 'cars', 'seinen', 'horror', 'psychological',\n",
      "       'thriller', 'super power', 'martial arts', 'school', 'ecchi', 'vampire',\n",
      "       'military', 'historical', 'dementia', 'mecha', 'demons', 'samurai',\n",
      "       'game', 'shoujo', 'harem', 'music', 'shoujo ai', 'shounen ai', 'kids',\n",
      "       'hentai', 'parody', 'yuri', 'yaoi', 'watching_status_Completed',\n",
      "       'watching_status_Currently Watching', 'watching_status_Dropped',\n",
      "       'watching_status_On Hold', 'watching_status_Plan to Watch'],\n",
      "      dtype='object')\n",
      "    action  adventure  comedy  drama  sci-fi  space  mystery  shounen  police  \\\n",
      "48   0.077      0.059     0.0    0.0     0.0    0.0      0.0      0.0     0.0   \n",
      "\n",
      "    supernatural  ...  shoujo  harem  music  shoujo ai  shounen ai  kids  \\\n",
      "48         0.029  ...     0.0    0.0    0.0        0.0         0.0   0.0   \n",
      "\n",
      "    hentai  parody  yuri  yaoi  \n",
      "48     0.0     0.0   0.0   0.0  \n",
      "\n",
      "[1 rows x 43 columns]\n"
     ]
    }
   ],
   "source": [
    "chunks = copy.copy(raw_chunks)\n",
    "for chunk in chunks:\n",
    "    print(chunk.shape)\n",
    "  \n",
    "    chunk = pd.concat([chunk, pd.DataFrame(np.zeros((chunk.shape[0],len(animeDFObj[\"columnsList\"])), dtype=int),columns = animeDFObj[\"columnsList\"])], axis=1)\n",
    "    chunk[\"watching_status\"] = chunk[\"watching_status\"].apply(lambda x : watching_statusObj[x])\n",
    "    chunk = pd.get_dummies(chunk, columns=['watching_status'])\n",
    "    \n",
    "    # print(chunk)\n",
    "    for userid,user in chunk.groupby(\"user_id\"):\n",
    "        columnsList = animeDFObj[\"columnsList\"]\n",
    "        selected_data = animeDF.loc[animeDF[\"MAL_ID\"] == user[\"anime_id\"].values[0], columnsList]\n",
    "        print(user.columns)\n",
    "        for index in range(0,user.shape[0]):\n",
    "            #user.iloc[0][columnsList] = selected_data.values[0]\n",
    "        print(selected_data)\n",
    "        break;\n",
    "    break;"
   ]
  },
  {
   "cell_type": "code",
   "execution_count": 36,
   "id": "8821bd98-4bad-4e61-b4d1-6e9ded80b66d",
   "metadata": {
    "tags": []
   },
   "outputs": [
    {
     "ename": "KeyError",
     "evalue": "\"['action' 'adventure' 'comedy' 'drama' 'sci-fi' 'space' 'mystery'\\n 'shounen' 'police' 'supernatural' 'magic' 'fantasy' 'sports' 'josei'\\n 'romance' 'slice of life' 'cars' 'seinen' 'horror' 'psychological'\\n 'thriller' 'super power' 'martial arts' 'school' 'ecchi' 'vampire'\\n 'military' 'historical' 'dementia' 'mecha' 'demons' 'samurai' 'game'\\n 'shoujo' 'harem' 'music' 'shoujo ai' 'shounen ai' 'kids' 'hentai'\\n 'parody' 'yuri' 'yaoi'] not in index\"",
     "output_type": "error",
     "traceback": [
      "\u001b[0;31m---------------------------------------------------------------------------\u001b[0m",
      "\u001b[0;31mTypeError\u001b[0m                                 Traceback (most recent call last)",
      "File \u001b[0;32m~/.local/lib/python3.10/site-packages/pandas/core/indexes/base.py:3802\u001b[0m, in \u001b[0;36mIndex.get_loc\u001b[0;34m(self, key, method, tolerance)\u001b[0m\n\u001b[1;32m   3801\u001b[0m \u001b[38;5;28;01mtry\u001b[39;00m:\n\u001b[0;32m-> 3802\u001b[0m     \u001b[38;5;28;01mreturn\u001b[39;00m \u001b[38;5;28;43mself\u001b[39;49m\u001b[38;5;241;43m.\u001b[39;49m\u001b[43m_engine\u001b[49m\u001b[38;5;241;43m.\u001b[39;49m\u001b[43mget_loc\u001b[49m\u001b[43m(\u001b[49m\u001b[43mcasted_key\u001b[49m\u001b[43m)\u001b[49m\n\u001b[1;32m   3803\u001b[0m \u001b[38;5;28;01mexcept\u001b[39;00m \u001b[38;5;167;01mKeyError\u001b[39;00m \u001b[38;5;28;01mas\u001b[39;00m err:\n",
      "File \u001b[0;32m~/.local/lib/python3.10/site-packages/pandas/_libs/index.pyx:138\u001b[0m, in \u001b[0;36mpandas._libs.index.IndexEngine.get_loc\u001b[0;34m()\u001b[0m\n",
      "File \u001b[0;32m~/.local/lib/python3.10/site-packages/pandas/_libs/index.pyx:144\u001b[0m, in \u001b[0;36mpandas._libs.index.IndexEngine.get_loc\u001b[0;34m()\u001b[0m\n",
      "\u001b[0;31mTypeError\u001b[0m: 'dict_keys(['action', 'adventure', 'comedy', 'drama', 'sci-fi', 'space', 'mystery', 'shounen', 'police', 'supernatural', 'magic', 'fantasy', 'sports', 'josei', 'romance', 'slice of life', 'cars', 'seinen', 'horror', 'psychological', 'thriller', 'super power', 'martial arts', 'school', 'ecchi', 'vampire', 'military', 'historical', 'dementia', 'mecha', 'demons', 'samurai', 'game', 'shoujo', 'harem', 'music', 'shoujo ai', 'shounen ai', 'kids', 'hentai', 'parody', 'yuri', 'yaoi'])' is an invalid key",
      "\nDuring handling of the above exception, another exception occurred:\n",
      "\u001b[0;31mInvalidIndexError\u001b[0m                         Traceback (most recent call last)",
      "File \u001b[0;32m~/.local/lib/python3.10/site-packages/pandas/core/series.py:1105\u001b[0m, in \u001b[0;36mSeries.__setitem__\u001b[0;34m(self, key, value)\u001b[0m\n\u001b[1;32m   1104\u001b[0m \u001b[38;5;28;01mtry\u001b[39;00m:\n\u001b[0;32m-> 1105\u001b[0m     \u001b[38;5;28;43mself\u001b[39;49m\u001b[38;5;241;43m.\u001b[39;49m\u001b[43m_set_with_engine\u001b[49m\u001b[43m(\u001b[49m\u001b[43mkey\u001b[49m\u001b[43m,\u001b[49m\u001b[43m \u001b[49m\u001b[43mvalue\u001b[49m\u001b[43m)\u001b[49m\n\u001b[1;32m   1106\u001b[0m \u001b[38;5;28;01mexcept\u001b[39;00m \u001b[38;5;167;01mKeyError\u001b[39;00m:\n\u001b[1;32m   1107\u001b[0m     \u001b[38;5;66;03m# We have a scalar (or for MultiIndex or object-dtype, scalar-like)\u001b[39;00m\n\u001b[1;32m   1108\u001b[0m     \u001b[38;5;66;03m#  key that is not present in self.index.\u001b[39;00m\n",
      "File \u001b[0;32m~/.local/lib/python3.10/site-packages/pandas/core/series.py:1175\u001b[0m, in \u001b[0;36mSeries._set_with_engine\u001b[0;34m(self, key, value)\u001b[0m\n\u001b[1;32m   1174\u001b[0m \u001b[38;5;28;01mdef\u001b[39;00m \u001b[38;5;21m_set_with_engine\u001b[39m(\u001b[38;5;28mself\u001b[39m, key, value) \u001b[38;5;241m-\u001b[39m\u001b[38;5;241m>\u001b[39m \u001b[38;5;28;01mNone\u001b[39;00m:\n\u001b[0;32m-> 1175\u001b[0m     loc \u001b[38;5;241m=\u001b[39m \u001b[38;5;28;43mself\u001b[39;49m\u001b[38;5;241;43m.\u001b[39;49m\u001b[43mindex\u001b[49m\u001b[38;5;241;43m.\u001b[39;49m\u001b[43mget_loc\u001b[49m\u001b[43m(\u001b[49m\u001b[43mkey\u001b[49m\u001b[43m)\u001b[49m\n\u001b[1;32m   1177\u001b[0m     \u001b[38;5;66;03m# this is equivalent to self._values[key] = value\u001b[39;00m\n",
      "File \u001b[0;32m~/.local/lib/python3.10/site-packages/pandas/core/indexes/base.py:3809\u001b[0m, in \u001b[0;36mIndex.get_loc\u001b[0;34m(self, key, method, tolerance)\u001b[0m\n\u001b[1;32m   3805\u001b[0m \u001b[38;5;28;01mexcept\u001b[39;00m \u001b[38;5;167;01mTypeError\u001b[39;00m:\n\u001b[1;32m   3806\u001b[0m     \u001b[38;5;66;03m# If we have a listlike key, _check_indexing_error will raise\u001b[39;00m\n\u001b[1;32m   3807\u001b[0m     \u001b[38;5;66;03m#  InvalidIndexError. Otherwise we fall through and re-raise\u001b[39;00m\n\u001b[1;32m   3808\u001b[0m     \u001b[38;5;66;03m#  the TypeError.\u001b[39;00m\n\u001b[0;32m-> 3809\u001b[0m     \u001b[38;5;28;43mself\u001b[39;49m\u001b[38;5;241;43m.\u001b[39;49m\u001b[43m_check_indexing_error\u001b[49m\u001b[43m(\u001b[49m\u001b[43mkey\u001b[49m\u001b[43m)\u001b[49m\n\u001b[1;32m   3810\u001b[0m     \u001b[38;5;28;01mraise\u001b[39;00m\n",
      "File \u001b[0;32m~/.local/lib/python3.10/site-packages/pandas/core/indexes/base.py:5925\u001b[0m, in \u001b[0;36mIndex._check_indexing_error\u001b[0;34m(self, key)\u001b[0m\n\u001b[1;32m   5922\u001b[0m \u001b[38;5;28;01mif\u001b[39;00m \u001b[38;5;129;01mnot\u001b[39;00m is_scalar(key):\n\u001b[1;32m   5923\u001b[0m     \u001b[38;5;66;03m# if key is not a scalar, directly raise an error (the code below\u001b[39;00m\n\u001b[1;32m   5924\u001b[0m     \u001b[38;5;66;03m# would convert to numpy arrays and raise later any way) - GH29926\u001b[39;00m\n\u001b[0;32m-> 5925\u001b[0m     \u001b[38;5;28;01mraise\u001b[39;00m InvalidIndexError(key)\n",
      "\u001b[0;31mInvalidIndexError\u001b[0m: dict_keys(['action', 'adventure', 'comedy', 'drama', 'sci-fi', 'space', 'mystery', 'shounen', 'police', 'supernatural', 'magic', 'fantasy', 'sports', 'josei', 'romance', 'slice of life', 'cars', 'seinen', 'horror', 'psychological', 'thriller', 'super power', 'martial arts', 'school', 'ecchi', 'vampire', 'military', 'historical', 'dementia', 'mecha', 'demons', 'samurai', 'game', 'shoujo', 'harem', 'music', 'shoujo ai', 'shounen ai', 'kids', 'hentai', 'parody', 'yuri', 'yaoi'])",
      "\nDuring handling of the above exception, another exception occurred:\n",
      "\u001b[0;31mKeyError\u001b[0m                                  Traceback (most recent call last)",
      "Cell \u001b[0;32mIn[36], line 1\u001b[0m\n\u001b[0;32m----> 1\u001b[0m \u001b[43muser\u001b[49m\u001b[38;5;241;43m.\u001b[39;49m\u001b[43miloc\u001b[49m\u001b[43m[\u001b[49m\u001b[38;5;241;43m0\u001b[39;49m\u001b[43m]\u001b[49m\u001b[43m[\u001b[49m\u001b[43mcolumnsList\u001b[49m\u001b[43m]\u001b[49m \u001b[38;5;241m=\u001b[39m selected_data\u001b[38;5;241m.\u001b[39mvalues[\u001b[38;5;241m0\u001b[39m]\n",
      "File \u001b[0;32m~/.local/lib/python3.10/site-packages/pandas/core/series.py:1169\u001b[0m, in \u001b[0;36mSeries.__setitem__\u001b[0;34m(self, key, value)\u001b[0m\n\u001b[1;32m   1166\u001b[0m         \u001b[38;5;28;01mreturn\u001b[39;00m\n\u001b[1;32m   1168\u001b[0m     \u001b[38;5;28;01melse\u001b[39;00m:\n\u001b[0;32m-> 1169\u001b[0m         \u001b[38;5;28;43mself\u001b[39;49m\u001b[38;5;241;43m.\u001b[39;49m\u001b[43m_set_with\u001b[49m\u001b[43m(\u001b[49m\u001b[43mkey\u001b[49m\u001b[43m,\u001b[49m\u001b[43m \u001b[49m\u001b[43mvalue\u001b[49m\u001b[43m)\u001b[49m\n\u001b[1;32m   1171\u001b[0m \u001b[38;5;28;01mif\u001b[39;00m cacher_needs_updating:\n\u001b[1;32m   1172\u001b[0m     \u001b[38;5;28mself\u001b[39m\u001b[38;5;241m.\u001b[39m_maybe_update_cacher(inplace\u001b[38;5;241m=\u001b[39m\u001b[38;5;28;01mTrue\u001b[39;00m)\n",
      "File \u001b[0;32m~/.local/lib/python3.10/site-packages/pandas/core/series.py:1201\u001b[0m, in \u001b[0;36mSeries._set_with\u001b[0;34m(self, key, value)\u001b[0m\n\u001b[1;32m   1199\u001b[0m     \u001b[38;5;28mself\u001b[39m\u001b[38;5;241m.\u001b[39m_set_values(key, value)\n\u001b[1;32m   1200\u001b[0m \u001b[38;5;28;01melse\u001b[39;00m:\n\u001b[0;32m-> 1201\u001b[0m     \u001b[38;5;28;43mself\u001b[39;49m\u001b[38;5;241;43m.\u001b[39;49m\u001b[43m_set_labels\u001b[49m\u001b[43m(\u001b[49m\u001b[43mkey\u001b[49m\u001b[43m,\u001b[49m\u001b[43m \u001b[49m\u001b[43mvalue\u001b[49m\u001b[43m)\u001b[49m\n",
      "File \u001b[0;32m~/.local/lib/python3.10/site-packages/pandas/core/series.py:1208\u001b[0m, in \u001b[0;36mSeries._set_labels\u001b[0;34m(self, key, value)\u001b[0m\n\u001b[1;32m   1206\u001b[0m mask \u001b[38;5;241m=\u001b[39m indexer \u001b[38;5;241m==\u001b[39m \u001b[38;5;241m-\u001b[39m\u001b[38;5;241m1\u001b[39m\n\u001b[1;32m   1207\u001b[0m \u001b[38;5;28;01mif\u001b[39;00m mask\u001b[38;5;241m.\u001b[39many():\n\u001b[0;32m-> 1208\u001b[0m     \u001b[38;5;28;01mraise\u001b[39;00m \u001b[38;5;167;01mKeyError\u001b[39;00m(\u001b[38;5;124mf\u001b[39m\u001b[38;5;124m\"\u001b[39m\u001b[38;5;132;01m{\u001b[39;00mkey[mask]\u001b[38;5;132;01m}\u001b[39;00m\u001b[38;5;124m not in index\u001b[39m\u001b[38;5;124m\"\u001b[39m)\n\u001b[1;32m   1209\u001b[0m \u001b[38;5;28mself\u001b[39m\u001b[38;5;241m.\u001b[39m_set_values(indexer, value)\n",
      "\u001b[0;31mKeyError\u001b[0m: \"['action' 'adventure' 'comedy' 'drama' 'sci-fi' 'space' 'mystery'\\n 'shounen' 'police' 'supernatural' 'magic' 'fantasy' 'sports' 'josei'\\n 'romance' 'slice of life' 'cars' 'seinen' 'horror' 'psychological'\\n 'thriller' 'super power' 'martial arts' 'school' 'ecchi' 'vampire'\\n 'military' 'historical' 'dementia' 'mecha' 'demons' 'samurai' 'game'\\n 'shoujo' 'harem' 'music' 'shoujo ai' 'shounen ai' 'kids' 'hentai'\\n 'parody' 'yuri' 'yaoi'] not in index\""
     ]
    }
   ],
   "source": [
    "user.iloc[0][columnsList] = selected_data.values[0]"
   ]
  },
  {
   "cell_type": "code",
   "execution_count": 38,
   "id": "eb896be3-2ca8-49b1-b08c-ee253754828a",
   "metadata": {
    "tags": []
   },
   "outputs": [
    {
     "data": {
      "text/html": [
       "<div>\n",
       "<style scoped>\n",
       "    .dataframe tbody tr th:only-of-type {\n",
       "        vertical-align: middle;\n",
       "    }\n",
       "\n",
       "    .dataframe tbody tr th {\n",
       "        vertical-align: top;\n",
       "    }\n",
       "\n",
       "    .dataframe thead th {\n",
       "        text-align: right;\n",
       "    }\n",
       "</style>\n",
       "<table border=\"1\" class=\"dataframe\">\n",
       "  <thead>\n",
       "    <tr style=\"text-align: right;\">\n",
       "      <th></th>\n",
       "      <th>user_id</th>\n",
       "      <th>anime_id</th>\n",
       "      <th>rating</th>\n",
       "      <th>watching_status</th>\n",
       "      <th>watched_episodes</th>\n",
       "    </tr>\n",
       "  </thead>\n",
       "  <tbody>\n",
       "    <tr>\n",
       "      <th>120000</th>\n",
       "      <td>409</td>\n",
       "      <td>457</td>\n",
       "      <td>10</td>\n",
       "      <td>2</td>\n",
       "      <td>26</td>\n",
       "    </tr>\n",
       "    <tr>\n",
       "      <th>120001</th>\n",
       "      <td>409</td>\n",
       "      <td>30</td>\n",
       "      <td>7</td>\n",
       "      <td>2</td>\n",
       "      <td>26</td>\n",
       "    </tr>\n",
       "    <tr>\n",
       "      <th>120002</th>\n",
       "      <td>409</td>\n",
       "      <td>564</td>\n",
       "      <td>9</td>\n",
       "      <td>2</td>\n",
       "      <td>2</td>\n",
       "    </tr>\n",
       "    <tr>\n",
       "      <th>120003</th>\n",
       "      <td>409</td>\n",
       "      <td>208</td>\n",
       "      <td>10</td>\n",
       "      <td>2</td>\n",
       "      <td>3</td>\n",
       "    </tr>\n",
       "    <tr>\n",
       "      <th>120004</th>\n",
       "      <td>409</td>\n",
       "      <td>209</td>\n",
       "      <td>8</td>\n",
       "      <td>2</td>\n",
       "      <td>26</td>\n",
       "    </tr>\n",
       "    <tr>\n",
       "      <th>...</th>\n",
       "      <td>...</td>\n",
       "      <td>...</td>\n",
       "      <td>...</td>\n",
       "      <td>...</td>\n",
       "      <td>...</td>\n",
       "    </tr>\n",
       "    <tr>\n",
       "      <th>120090</th>\n",
       "      <td>409</td>\n",
       "      <td>1603</td>\n",
       "      <td>0</td>\n",
       "      <td>6</td>\n",
       "      <td>1</td>\n",
       "    </tr>\n",
       "    <tr>\n",
       "      <th>120091</th>\n",
       "      <td>409</td>\n",
       "      <td>95</td>\n",
       "      <td>0</td>\n",
       "      <td>6</td>\n",
       "      <td>2</td>\n",
       "    </tr>\n",
       "    <tr>\n",
       "      <th>120092</th>\n",
       "      <td>409</td>\n",
       "      <td>2840</td>\n",
       "      <td>0</td>\n",
       "      <td>6</td>\n",
       "      <td>0</td>\n",
       "    </tr>\n",
       "    <tr>\n",
       "      <th>120093</th>\n",
       "      <td>409</td>\n",
       "      <td>890</td>\n",
       "      <td>8</td>\n",
       "      <td>6</td>\n",
       "      <td>3</td>\n",
       "    </tr>\n",
       "    <tr>\n",
       "      <th>120094</th>\n",
       "      <td>409</td>\n",
       "      <td>1382</td>\n",
       "      <td>0</td>\n",
       "      <td>6</td>\n",
       "      <td>1</td>\n",
       "    </tr>\n",
       "  </tbody>\n",
       "</table>\n",
       "<p>95 rows × 5 columns</p>\n",
       "</div>"
      ],
      "text/plain": [
       "        user_id  anime_id  rating  watching_status  watched_episodes\n",
       "120000      409       457      10                2                26\n",
       "120001      409        30       7                2                26\n",
       "120002      409       564       9                2                 2\n",
       "120003      409       208      10                2                 3\n",
       "120004      409       209       8                2                26\n",
       "...         ...       ...     ...              ...               ...\n",
       "120090      409      1603       0                6                 1\n",
       "120091      409        95       0                6                 2\n",
       "120092      409      2840       0                6                 0\n",
       "120093      409       890       8                6                 3\n",
       "120094      409      1382       0                6                 1\n",
       "\n",
       "[95 rows x 5 columns]"
      ]
     },
     "execution_count": 38,
     "metadata": {},
     "output_type": "execute_result"
    }
   ],
   "source": [
    "user"
   ]
  },
  {
   "cell_type": "code",
   "execution_count": 8,
   "id": "60aecc77-280b-4319-af0a-b9b98fc1d17a",
   "metadata": {
    "tags": []
   },
   "outputs": [],
   "source": [
    "raw_chunk[\"watching_status\"] = raw_chunk[\"watching_status\"].apply(lambda x : watching_statusObj[x])"
   ]
  },
  {
   "cell_type": "code",
   "execution_count": 9,
   "id": "ca04f7db-84f4-4048-843e-bca9c44176a1",
   "metadata": {},
   "outputs": [
    {
     "data": {
      "text/plain": [
       "Completed             11131\n",
       "Plan to Watch          5979\n",
       "Currently Watching     1484\n",
       "Dropped                 800\n",
       "On Hold                 606\n",
       "Name: watching_status, dtype: int64"
      ]
     },
     "execution_count": 9,
     "metadata": {},
     "output_type": "execute_result"
    }
   ],
   "source": [
    "raw_chunk[\"watching_status\"].value_counts()"
   ]
  },
  {
   "cell_type": "code",
   "execution_count": 10,
   "id": "a30205f5-162f-43e3-bb02-bd0d3901a052",
   "metadata": {
    "tags": []
   },
   "outputs": [
    {
     "data": {
      "text/plain": [
       "60    1722\n",
       "17    1188\n",
       "42    1126\n",
       "19     967\n",
       "47     862\n",
       "      ... \n",
       "35      13\n",
       "43       9\n",
       "24       7\n",
       "9        3\n",
       "26       1\n",
       "Name: user_id, Length: 71, dtype: int64"
      ]
     },
     "execution_count": 10,
     "metadata": {},
     "output_type": "execute_result"
    }
   ],
   "source": [
    "chunk[\"user_id\"].value_counts()"
   ]
  },
  {
   "cell_type": "code",
   "execution_count": null,
   "id": "9756668c-ecae-4fe0-996c-e27e078780e3",
   "metadata": {},
   "outputs": [],
   "source": []
  }
 ],
 "metadata": {
  "kernelspec": {
   "display_name": "Python 3 (ipykernel)",
   "language": "python",
   "name": "python3"
  },
  "language_info": {
   "codemirror_mode": {
    "name": "ipython",
    "version": 3
   },
   "file_extension": ".py",
   "mimetype": "text/x-python",
   "name": "python",
   "nbconvert_exporter": "python",
   "pygments_lexer": "ipython3",
   "version": "3.10.6"
  }
 },
 "nbformat": 4,
 "nbformat_minor": 5
}
